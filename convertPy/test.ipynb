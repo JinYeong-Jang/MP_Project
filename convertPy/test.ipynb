{
 "cells": [
  {
   "cell_type": "code",
   "execution_count": 2,
   "metadata": {},
   "outputs": [],
   "source": [
    "### Convert PNG to IntelHEX ###\n",
    "from PIL import Image\n",
    "import numpy as np\n",
    "from intelhex import IntelHex\n",
    "from io import StringIO\n",
    "\n",
    "img = Image.open(\"image.png\")\n",
    "pix = np.array(img)\n",
    "pix = np.ravel(pix, order='C') #flatten pixel info to 1-d array\n",
    "ih = IntelHex() #new HEX objext\n",
    "ih.frombytes(pix) #RGBA data to HEX object\n",
    "ih.write_hex_file(\"decRGBA.hex\",byte_count=32) #Memory location fix to 0x4000 needed using HEX editor"
   ]
  },
  {
   "cell_type": "code",
   "execution_count": 33,
   "metadata": {},
   "outputs": [],
   "source": [
    "### Convert HEX to PNG, func1 ###\n",
    "from intelhex import IntelHex\n",
    "from PIL import Image\n",
    "import numpy as np\n",
    "\n",
    "# data=[None]*256\n",
    "# for i in range(256):\n",
    "#     data[i] = i\n",
    "    #data[i] = f'ob{i:08b}'\n",
    "\n",
    "ih = IntelHex()\n",
    "ih.loadhex('memoutput_func1.hex')\n",
    "pydict=ih.todict() #hex to dict\n",
    "rgbcomp = np.fromiter(pydict.values(), dtype=int) #array of values in dict\n",
    "uniqRgbComp = np.unique(rgbcomp) #int list of uniq colors\n",
    "plte = np.zeros((len(uniqRgbComp),3)) #plte(24bit rgb) = uniqRgbComp(8bit rgb)\n",
    "for i in range(len(uniqRgbComp)):\n",
    "   plte[i] = np.array([ int(uniqRgbComp[i]&0b11100000), int( ((uniqRgbComp[i])&0b00011100) << 3 ), int( (uniqRgbComp[i]&0b00000011) << 6 ) ])\n",
    "pltePix = np.zeros(len(rgbcomp)) #Pixel data points palette\n",
    "for i in range(len(rgbcomp)): \n",
    "    pltePix[i] = np.argwhere(uniqRgbComp==rgbcomp[i])[0] #Match pixel data to palette\n",
    "pltePix = np.reshape(pltePix, (640, 960)) #shows mached data in rectangular shape\n",
    "\n",
    "im_RGB = Image.new(mode=\"P\", size=(960,640)) #make new image\n",
    "plte = np.ravel(plte) #flatten the array(to be compatible with .putpalette)\n",
    "plte = np.uint8(plte).tolist() #change size of element(to be compatible with .putpalette)\n",
    "im_RGB.putpalette(plte, rawmode=\"RGB\") #make palette\n",
    "pltePix = np.ravel(pltePix) #flatten the array of pixel data(to be compatible with .putdata)\n",
    "im_RGB.putdata(pltePix) #make pixeldata of image\n",
    "im_RGB.save(\"compRGB.png\") #write image to file\n",
    "\n",
    "# https://pillow.readthedocs.io/en/stable/handbook/concepts.html#modes - about pillow modes"
   ]
  },
  {
   "cell_type": "code",
   "execution_count": 7,
   "metadata": {},
   "outputs": [],
   "source": [
    "### Test - Get 8-bit PNG's palette ###\n",
    "from PIL import Image\n",
    "import numpy as np\n",
    "\n",
    "img8 = Image.open(\"..\\\\bmp\\image-8.png\")\n",
    "pix8 = np.array(img8)\n",
    "# pix8 = np.ravel(pix8, order='C')\n",
    "# pix8\n",
    "plte8 = img8.getpalette() #returns list\n",
    "plte8 = np.array(plte8) #list to np\n",
    "plte8 = np.reshape(plte8,(256,3)) #palette 구함, 일치확인\n",
    "\n",
    "# 팔레트 만들어서->hex랑 rgb 매핑 -> 팔레트를 바탕으로 출력\n",
    "# https://github.com/python-pillow/Pillow/issues/6263 - RGB to P\n",
    "# https://stackoverflow.com/questions/67967366/how-to-write-image-with-palette-information - palette to image"
   ]
  }
 ],
 "metadata": {
  "kernelspec": {
   "display_name": "Python 3",
   "language": "python",
   "name": "python3"
  },
  "language_info": {
   "codemirror_mode": {
    "name": "ipython",
    "version": 3
   },
   "file_extension": ".py",
   "mimetype": "text/x-python",
   "name": "python",
   "nbconvert_exporter": "python",
   "pygments_lexer": "ipython3",
   "version": "3.11.2"
  }
 },
 "nbformat": 4,
 "nbformat_minor": 2
}
