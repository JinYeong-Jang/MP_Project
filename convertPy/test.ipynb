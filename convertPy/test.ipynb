{
 "cells": [
  {
   "cell_type": "code",
   "execution_count": 1,
   "metadata": {},
   "outputs": [
    {
     "data": {
      "text/plain": [
       "array([ 15,  16,  10, ...,  13,   6, 255], dtype=uint8)"
      ]
     },
     "execution_count": 1,
     "metadata": {},
     "output_type": "execute_result"
    }
   ],
   "source": [
    "from PIL import Image\n",
    "import numpy as np\n",
    "\n",
    "img = Image.open(\"image.png\")\n",
    "pix = np.array(img)\n",
    "pix = np.ravel(pix, order='C')\n",
    "pix"
   ]
  },
  {
   "cell_type": "code",
   "execution_count": 3,
   "metadata": {},
   "outputs": [],
   "source": [
    "from intelhex import IntelHex\n",
    "from io import StringIO\n",
    "\n",
    "# print(pix[0][0], pix[0][1])\n",
    "ih = IntelHex()\n",
    "ih.frombytes(pix)\n",
    "ih.write_hex_file(\"decRGBA.hex\",byte_count=32)"
   ]
  },
  {
   "cell_type": "code",
   "execution_count": 16,
   "metadata": {},
   "outputs": [
    {
     "ename": "TypeError",
     "evalue": "cannot convert 'NoneType' object to bytes",
     "output_type": "error",
     "traceback": [
      "\u001b[1;31m---------------------------------------------------------------------------\u001b[0m",
      "\u001b[1;31mTypeError\u001b[0m                                 Traceback (most recent call last)",
      "Cell \u001b[1;32mIn[16], line 7\u001b[0m\n\u001b[0;32m      5\u001b[0m rgbcomp \u001b[38;5;241m=\u001b[39m np\u001b[38;5;241m.\u001b[39mreshape(rgbcomp,(\u001b[38;5;241m640\u001b[39m,\u001b[38;5;241m960\u001b[39m))\n\u001b[0;32m      6\u001b[0m img_2 \u001b[38;5;241m=\u001b[39m Image\u001b[38;5;241m.\u001b[39mfromarray(rgbcomp, \u001b[38;5;124m'\u001b[39m\u001b[38;5;124mP\u001b[39m\u001b[38;5;124m'\u001b[39m)\n\u001b[1;32m----> 7\u001b[0m \u001b[43mimg_2\u001b[49m\u001b[38;5;241;43m.\u001b[39;49m\u001b[43mputpalette\u001b[49m\u001b[43m(\u001b[49m\u001b[43mimg\u001b[49m\u001b[38;5;241;43m.\u001b[39;49m\u001b[43mgetpalette\u001b[49m\u001b[43m(\u001b[49m\u001b[43m)\u001b[49m\u001b[43m)\u001b[49m\n\u001b[0;32m      8\u001b[0m \u001b[38;5;66;03m# https://pillow.readthedocs.io/en/stable/handbook/concepts.html#modes\u001b[39;00m\n\u001b[0;32m      9\u001b[0m img_2\u001b[38;5;241m.\u001b[39mshow()\n",
      "File \u001b[1;32mc:\\Users\\hojin\\AppData\\Local\\Programs\\Python\\Python311\\Lib\\site-packages\\PIL\\Image.py:1938\u001b[0m, in \u001b[0;36mImage.putpalette\u001b[1;34m(self, data, rawmode)\u001b[0m\n\u001b[0;32m   1936\u001b[0m \u001b[38;5;28;01melse\u001b[39;00m:\n\u001b[0;32m   1937\u001b[0m     \u001b[38;5;28;01mif\u001b[39;00m \u001b[38;5;129;01mnot\u001b[39;00m \u001b[38;5;28misinstance\u001b[39m(data, \u001b[38;5;28mbytes\u001b[39m):\n\u001b[1;32m-> 1938\u001b[0m         data \u001b[38;5;241m=\u001b[39m \u001b[38;5;28;43mbytes\u001b[39;49m\u001b[43m(\u001b[49m\u001b[43mdata\u001b[49m\u001b[43m)\u001b[49m\n\u001b[0;32m   1939\u001b[0m     palette \u001b[38;5;241m=\u001b[39m ImagePalette\u001b[38;5;241m.\u001b[39mraw(rawmode, data)\n\u001b[0;32m   1940\u001b[0m \u001b[38;5;28mself\u001b[39m\u001b[38;5;241m.\u001b[39mmode \u001b[38;5;241m=\u001b[39m \u001b[38;5;124m\"\u001b[39m\u001b[38;5;124mPA\u001b[39m\u001b[38;5;124m\"\u001b[39m \u001b[38;5;28;01mif\u001b[39;00m \u001b[38;5;124m\"\u001b[39m\u001b[38;5;124mA\u001b[39m\u001b[38;5;124m\"\u001b[39m \u001b[38;5;129;01min\u001b[39;00m \u001b[38;5;28mself\u001b[39m\u001b[38;5;241m.\u001b[39mmode \u001b[38;5;28;01melse\u001b[39;00m \u001b[38;5;124m\"\u001b[39m\u001b[38;5;124mP\u001b[39m\u001b[38;5;124m\"\u001b[39m\n",
      "\u001b[1;31mTypeError\u001b[0m: cannot convert 'NoneType' object to bytes"
     ]
    }
   ],
   "source": [
    "ih = IntelHex()\n",
    "ih.loadhex('memoutput.hex')\n",
    "pydict=ih.todict()\n",
    "rgbcomp = np.fromiter(pydict.values(), dtype=int)\n",
    "rgbcomp = np.reshape(rgbcomp,(640,960))\n",
    "img_2 = Image.fromarray(rgbcomp, 'P')\n",
    "# https://pillow.readthedocs.io/en/stable/handbook/concepts.html#modes\n",
    "img_2.show()\n"
   ]
  }
 ],
 "metadata": {
  "kernelspec": {
   "display_name": "Python 3",
   "language": "python",
   "name": "python3"
  },
  "language_info": {
   "codemirror_mode": {
    "name": "ipython",
    "version": 3
   },
   "file_extension": ".py",
   "mimetype": "text/x-python",
   "name": "python",
   "nbconvert_exporter": "python",
   "pygments_lexer": "ipython3",
   "version": "3.11.2"
  }
 },
 "nbformat": 4,
 "nbformat_minor": 2
}
